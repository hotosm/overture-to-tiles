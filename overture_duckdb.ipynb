{
  "nbformat": 4,
  "nbformat_minor": 0,
  "metadata": {
    "colab": {
      "provenance": []
    },
    "kernelspec": {
      "name": "python3",
      "display_name": "Python 3"
    },
    "language_info": {
      "name": "python"
    },
    "widgets": {
      "application/vnd.jupyter.widget-state+json": {
        "20d55b4ee08e48b1b1b31001f3edfa6f": {
          "model_module": "@jupyter-widgets/controls",
          "model_name": "FloatProgressModel",
          "model_module_version": "1.5.0",
          "state": {
            "_dom_classes": [],
            "_model_module": "@jupyter-widgets/controls",
            "_model_module_version": "1.5.0",
            "_model_name": "FloatProgressModel",
            "_view_count": null,
            "_view_module": "@jupyter-widgets/controls",
            "_view_module_version": "1.5.0",
            "_view_name": "ProgressView",
            "bar_style": "",
            "description": "",
            "description_tooltip": null,
            "layout": "IPY_MODEL_fc547e9077b04310ae7a826e7f14bd0c",
            "max": 100,
            "min": 0,
            "orientation": "horizontal",
            "style": "IPY_MODEL_077b3eea236349248cba4f8ac1f9009a",
            "value": 100
          }
        },
        "fc547e9077b04310ae7a826e7f14bd0c": {
          "model_module": "@jupyter-widgets/base",
          "model_name": "LayoutModel",
          "model_module_version": "1.2.0",
          "state": {
            "_model_module": "@jupyter-widgets/base",
            "_model_module_version": "1.2.0",
            "_model_name": "LayoutModel",
            "_view_count": null,
            "_view_module": "@jupyter-widgets/base",
            "_view_module_version": "1.2.0",
            "_view_name": "LayoutView",
            "align_content": null,
            "align_items": null,
            "align_self": null,
            "border": null,
            "bottom": null,
            "display": null,
            "flex": null,
            "flex_flow": null,
            "grid_area": null,
            "grid_auto_columns": null,
            "grid_auto_flow": null,
            "grid_auto_rows": null,
            "grid_column": null,
            "grid_gap": null,
            "grid_row": null,
            "grid_template_areas": null,
            "grid_template_columns": null,
            "grid_template_rows": null,
            "height": null,
            "justify_content": null,
            "justify_items": null,
            "left": null,
            "margin": null,
            "max_height": null,
            "max_width": null,
            "min_height": null,
            "min_width": null,
            "object_fit": null,
            "object_position": null,
            "order": null,
            "overflow": null,
            "overflow_x": null,
            "overflow_y": null,
            "padding": null,
            "right": null,
            "top": null,
            "visibility": null,
            "width": "auto"
          }
        },
        "077b3eea236349248cba4f8ac1f9009a": {
          "model_module": "@jupyter-widgets/controls",
          "model_name": "ProgressStyleModel",
          "model_module_version": "1.5.0",
          "state": {
            "_model_module": "@jupyter-widgets/controls",
            "_model_module_version": "1.5.0",
            "_model_name": "ProgressStyleModel",
            "_view_count": null,
            "_view_module": "@jupyter-widgets/base",
            "_view_module_version": "1.2.0",
            "_view_name": "StyleView",
            "bar_color": "black",
            "description_width": ""
          }
        },
        "f92ae5efe4ff43da837194b6cea5f678": {
          "model_module": "@jupyter-widgets/controls",
          "model_name": "FloatProgressModel",
          "model_module_version": "1.5.0",
          "state": {
            "_dom_classes": [],
            "_model_module": "@jupyter-widgets/controls",
            "_model_module_version": "1.5.0",
            "_model_name": "FloatProgressModel",
            "_view_count": null,
            "_view_module": "@jupyter-widgets/controls",
            "_view_module_version": "1.5.0",
            "_view_name": "ProgressView",
            "bar_style": "",
            "description": "",
            "description_tooltip": null,
            "layout": "IPY_MODEL_d5d1ad50dd554f08bf6ec0dab8bdcc9d",
            "max": 100,
            "min": 0,
            "orientation": "horizontal",
            "style": "IPY_MODEL_1ab6f972219a4d16909785ccf2af1e80",
            "value": 100
          }
        },
        "d5d1ad50dd554f08bf6ec0dab8bdcc9d": {
          "model_module": "@jupyter-widgets/base",
          "model_name": "LayoutModel",
          "model_module_version": "1.2.0",
          "state": {
            "_model_module": "@jupyter-widgets/base",
            "_model_module_version": "1.2.0",
            "_model_name": "LayoutModel",
            "_view_count": null,
            "_view_module": "@jupyter-widgets/base",
            "_view_module_version": "1.2.0",
            "_view_name": "LayoutView",
            "align_content": null,
            "align_items": null,
            "align_self": null,
            "border": null,
            "bottom": null,
            "display": null,
            "flex": null,
            "flex_flow": null,
            "grid_area": null,
            "grid_auto_columns": null,
            "grid_auto_flow": null,
            "grid_auto_rows": null,
            "grid_column": null,
            "grid_gap": null,
            "grid_row": null,
            "grid_template_areas": null,
            "grid_template_columns": null,
            "grid_template_rows": null,
            "height": null,
            "justify_content": null,
            "justify_items": null,
            "left": null,
            "margin": null,
            "max_height": null,
            "max_width": null,
            "min_height": null,
            "min_width": null,
            "object_fit": null,
            "object_position": null,
            "order": null,
            "overflow": null,
            "overflow_x": null,
            "overflow_y": null,
            "padding": null,
            "right": null,
            "top": null,
            "visibility": null,
            "width": "auto"
          }
        },
        "1ab6f972219a4d16909785ccf2af1e80": {
          "model_module": "@jupyter-widgets/controls",
          "model_name": "ProgressStyleModel",
          "model_module_version": "1.5.0",
          "state": {
            "_model_module": "@jupyter-widgets/controls",
            "_model_module_version": "1.5.0",
            "_model_name": "ProgressStyleModel",
            "_view_count": null,
            "_view_module": "@jupyter-widgets/base",
            "_view_module_version": "1.2.0",
            "_view_name": "StyleView",
            "bar_color": "black",
            "description_width": ""
          }
        },
        "281ac4378a3742d381f4c0385bcc7237": {
          "model_module": "@jupyter-widgets/controls",
          "model_name": "FloatProgressModel",
          "model_module_version": "1.5.0",
          "state": {
            "_dom_classes": [],
            "_model_module": "@jupyter-widgets/controls",
            "_model_module_version": "1.5.0",
            "_model_name": "FloatProgressModel",
            "_view_count": null,
            "_view_module": "@jupyter-widgets/controls",
            "_view_module_version": "1.5.0",
            "_view_name": "ProgressView",
            "bar_style": "",
            "description": "",
            "description_tooltip": null,
            "layout": "IPY_MODEL_12e549dd1f90425fbcb6d072ebddc719",
            "max": 100,
            "min": 0,
            "orientation": "horizontal",
            "style": "IPY_MODEL_f4dc786c68f84e39b1eeaea72d98c50e",
            "value": 100
          }
        },
        "12e549dd1f90425fbcb6d072ebddc719": {
          "model_module": "@jupyter-widgets/base",
          "model_name": "LayoutModel",
          "model_module_version": "1.2.0",
          "state": {
            "_model_module": "@jupyter-widgets/base",
            "_model_module_version": "1.2.0",
            "_model_name": "LayoutModel",
            "_view_count": null,
            "_view_module": "@jupyter-widgets/base",
            "_view_module_version": "1.2.0",
            "_view_name": "LayoutView",
            "align_content": null,
            "align_items": null,
            "align_self": null,
            "border": null,
            "bottom": null,
            "display": null,
            "flex": null,
            "flex_flow": null,
            "grid_area": null,
            "grid_auto_columns": null,
            "grid_auto_flow": null,
            "grid_auto_rows": null,
            "grid_column": null,
            "grid_gap": null,
            "grid_row": null,
            "grid_template_areas": null,
            "grid_template_columns": null,
            "grid_template_rows": null,
            "height": null,
            "justify_content": null,
            "justify_items": null,
            "left": null,
            "margin": null,
            "max_height": null,
            "max_width": null,
            "min_height": null,
            "min_width": null,
            "object_fit": null,
            "object_position": null,
            "order": null,
            "overflow": null,
            "overflow_x": null,
            "overflow_y": null,
            "padding": null,
            "right": null,
            "top": null,
            "visibility": null,
            "width": "auto"
          }
        },
        "f4dc786c68f84e39b1eeaea72d98c50e": {
          "model_module": "@jupyter-widgets/controls",
          "model_name": "ProgressStyleModel",
          "model_module_version": "1.5.0",
          "state": {
            "_model_module": "@jupyter-widgets/controls",
            "_model_module_version": "1.5.0",
            "_model_name": "ProgressStyleModel",
            "_view_count": null,
            "_view_module": "@jupyter-widgets/base",
            "_view_module_version": "1.2.0",
            "_view_name": "StyleView",
            "bar_color": "black",
            "description_width": ""
          }
        }
      }
    }
  },
  "cells": [
    {
      "cell_type": "code",
      "execution_count": 6,
      "metadata": {
        "colab": {
          "base_uri": "https://localhost:8080/"
        },
        "id": "lmGaKPIHugm1",
        "outputId": "a36a1eab-abfb-470c-fca1-330333ba40d7"
      },
      "outputs": [
        {
          "output_type": "stream",
          "name": "stdout",
          "text": [
            "Collecting overturemaps\n",
            "  Downloading overturemaps-0.4.0-py3-none-any.whl (7.0 kB)\n",
            "Requirement already satisfied: click<9.0.0,>=8.1.7 in /usr/local/lib/python3.10/dist-packages (from overturemaps) (8.1.7)\n",
            "Collecting pyarrow<16.0.0,>=15.0.2 (from overturemaps)\n",
            "  Downloading pyarrow-15.0.2-cp310-cp310-manylinux_2_28_x86_64.whl (38.3 MB)\n",
            "\u001b[2K     \u001b[90m━━━━━━━━━━━━━━━━━━━━━━━━━━━━━━━━━━━━━━━━\u001b[0m \u001b[32m38.3/38.3 MB\u001b[0m \u001b[31m35.0 MB/s\u001b[0m eta \u001b[36m0:00:00\u001b[0m\n",
            "\u001b[?25hRequirement already satisfied: shapely<3.0.0,>=2.0.3 in /usr/local/lib/python3.10/dist-packages (from overturemaps) (2.0.4)\n",
            "Requirement already satisfied: numpy<2,>=1.16.6 in /usr/local/lib/python3.10/dist-packages (from pyarrow<16.0.0,>=15.0.2->overturemaps) (1.25.2)\n",
            "Installing collected packages: pyarrow, overturemaps\n",
            "  Attempting uninstall: pyarrow\n",
            "    Found existing installation: pyarrow 14.0.2\n",
            "    Uninstalling pyarrow-14.0.2:\n",
            "      Successfully uninstalled pyarrow-14.0.2\n",
            "Successfully installed overturemaps-0.4.0 pyarrow-15.0.2\n"
          ]
        }
      ],
      "source": [
        "!pip install overturemaps"
      ]
    },
    {
      "cell_type": "markdown",
      "source": [
        "## Download and get overture Maps Data"
      ],
      "metadata": {
        "id": "JZleygB1XDzd"
      }
    },
    {
      "cell_type": "code",
      "source": [
        "import overturemaps\n",
        "table = overturemaps.record_batch_reader(\"administrative_boundary\").read_all()\n",
        "\n",
        "table = table.combine_chunks()"
      ],
      "metadata": {
        "id": "040EuafRunAo"
      },
      "execution_count": 7,
      "outputs": []
    },
    {
      "cell_type": "markdown",
      "source": [
        "## Save overture data to parquet"
      ],
      "metadata": {
        "id": "5_c3kA5gXHp5"
      }
    },
    {
      "cell_type": "code",
      "source": [
        "import pyarrow.parquet as pq\n",
        "pq.write_table(table, 'adb.parquet')"
      ],
      "metadata": {
        "id": "nO6hqhvpwT79"
      },
      "execution_count": 8,
      "outputs": []
    },
    {
      "cell_type": "markdown",
      "source": [
        "## Get Nepal Boundary\n",
        "\n",
        "Getting boundary from OSM : https://www.openstreetmap.org/relation/184633"
      ],
      "metadata": {
        "id": "6_gtMNXYXMgt"
      }
    },
    {
      "cell_type": "code",
      "source": [
        "import requests\n",
        "import json\n",
        "response = requests.get(\"https://api-prod.raw-data.hotosm.org/v1/osm_id/?osm_id=184633\")\n",
        "with open(\"nepal.geojson\", \"w+\") as f:\n",
        "    f.write(json.dumps(response.json()))"
      ],
      "metadata": {
        "id": "M0VFyq1SWm9o"
      },
      "execution_count": 13,
      "outputs": []
    },
    {
      "cell_type": "markdown",
      "source": [
        "## Create duck db instance and load downloaded overture map data\n",
        "\n",
        "DuckDB can directly load arrow tables , For sake of this tutorial data is saved to parquet to showcase how can we load downloaded parquet directly"
      ],
      "metadata": {
        "id": "G3ox5MdtXPm8"
      }
    },
    {
      "cell_type": "code",
      "source": [
        "import duckdb\n",
        "\n",
        "# Connect to the DuckDB database\n",
        "con = duckdb.connect('adb.db')\n",
        "\n",
        "con.execute(f'CREATE TABLE adb AS SELECT * FROM read_parquet(\"adb.parquet\")')"
      ],
      "metadata": {
        "id": "jty8ChyqyJhK",
        "colab": {
          "base_uri": "https://localhost:8080/",
          "height": 67,
          "referenced_widgets": [
            "281ac4378a3742d381f4c0385bcc7237",
            "12e549dd1f90425fbcb6d072ebddc719",
            "f4dc786c68f84e39b1eeaea72d98c50e"
          ]
        },
        "outputId": "386e1e3b-996e-4d10-b71f-e2c09b60014f"
      },
      "execution_count": 10,
      "outputs": [
        {
          "output_type": "display_data",
          "data": {
            "text/plain": [
              "FloatProgress(value=0.0, layout=Layout(width='auto'), style=ProgressStyle(bar_color='black'))"
            ],
            "application/vnd.jupyter.widget-view+json": {
              "version_major": 2,
              "version_minor": 0,
              "model_id": "281ac4378a3742d381f4c0385bcc7237"
            }
          },
          "metadata": {}
        },
        {
          "output_type": "execute_result",
          "data": {
            "text/plain": [
              "<duckdb.duckdb.DuckDBPyConnection at 0x7ca3110c4030>"
            ]
          },
          "metadata": {},
          "execution_count": 10
        }
      ]
    },
    {
      "cell_type": "markdown",
      "source": [
        "## Install spatial extension\n",
        "\n",
        "https://duckdb.org/docs/extensions/spatial.html"
      ],
      "metadata": {
        "id": "pVjXYVLdXkHp"
      }
    },
    {
      "cell_type": "code",
      "source": [
        "con.execute('install spatial;')\n",
        "con.execute('load spatial;')"
      ],
      "metadata": {
        "colab": {
          "base_uri": "https://localhost:8080/"
        },
        "id": "QET_MNYg9Pur",
        "outputId": "c7306310-8558-44b3-eed8-d5a048eab05e"
      },
      "execution_count": 11,
      "outputs": [
        {
          "output_type": "execute_result",
          "data": {
            "text/plain": [
              "<duckdb.duckdb.DuckDBPyConnection at 0x7ca3110c4030>"
            ]
          },
          "metadata": {},
          "execution_count": 11
        }
      ]
    },
    {
      "cell_type": "markdown",
      "source": [
        "## Create table from our boundary nepal geojson\n",
        "Duckdb supports several geospatial functions as well as input like one in the example below"
      ],
      "metadata": {
        "id": "4zD2kcCvYFUn"
      }
    },
    {
      "cell_type": "code",
      "source": [
        "con.execute('create table nepal as select * from st_read(\"nepal.geojson\")')"
      ],
      "metadata": {
        "colab": {
          "base_uri": "https://localhost:8080/"
        },
        "id": "GHDFttkO5x0v",
        "outputId": "a589db55-5a63-4090-cac2-240aef7d4da7"
      },
      "execution_count": 14,
      "outputs": [
        {
          "output_type": "execute_result",
          "data": {
            "text/plain": [
              "<duckdb.duckdb.DuckDBPyConnection at 0x7ca3110c4030>"
            ]
          },
          "metadata": {},
          "execution_count": 14
        }
      ]
    },
    {
      "cell_type": "markdown",
      "source": [
        "## Describe your table to know column and their formats"
      ],
      "metadata": {
        "id": "oc5rEUmVYe5u"
      }
    },
    {
      "cell_type": "code",
      "source": [
        "con.sql('describe adb;')"
      ],
      "metadata": {
        "colab": {
          "base_uri": "https://localhost:8080/"
        },
        "id": "tKc15tIGHTlo",
        "outputId": "d5d52d8e-2e76-456b-f164-2dd6dda0755b"
      },
      "execution_count": null,
      "outputs": [
        {
          "output_type": "execute_result",
          "data": {
            "text/plain": [
              "┌──────────────────────┬───────────────────────────────────────────────────────┬─────────┬─────────┬─────────┬─────────┐\n",
              "│     column_name      │                      column_type                      │  null   │   key   │ default │  extra  │\n",
              "│       varchar        │                        varchar                        │ varchar │ varchar │ varchar │ varchar │\n",
              "├──────────────────────┼───────────────────────────────────────────────────────┼─────────┼─────────┼─────────┼─────────┤\n",
              "│ id                   │ VARCHAR                                               │ YES     │ NULL    │ NULL    │ NULL    │\n",
              "│ geometry             │ BLOB                                                  │ YES     │ NULL    │ NULL    │ NULL    │\n",
              "│ bbox                 │ STRUCT(xmin FLOAT, xmax FLOAT, ymin FLOAT, ymax FLO…  │ YES     │ NULL    │ NULL    │ NULL    │\n",
              "│ admin_level          │ INTEGER                                               │ YES     │ NULL    │ NULL    │ NULL    │\n",
              "│ is_maritime          │ BOOLEAN                                               │ YES     │ NULL    │ NULL    │ NULL    │\n",
              "│ geopol_display       │ VARCHAR                                               │ YES     │ NULL    │ NULL    │ NULL    │\n",
              "│ version              │ INTEGER                                               │ YES     │ NULL    │ NULL    │ NULL    │\n",
              "│ update_time          │ VARCHAR                                               │ YES     │ NULL    │ NULL    │ NULL    │\n",
              "│ sources              │ STRUCT(property VARCHAR, dataset VARCHAR, record_id…  │ YES     │ NULL    │ NULL    │ NULL    │\n",
              "│ subtype              │ VARCHAR                                               │ YES     │ NULL    │ NULL    │ NULL    │\n",
              "│ locality_type        │ VARCHAR                                               │ YES     │ NULL    │ NULL    │ NULL    │\n",
              "│ wikidata             │ VARCHAR                                               │ YES     │ NULL    │ NULL    │ NULL    │\n",
              "│ context_id           │ VARCHAR                                               │ YES     │ NULL    │ NULL    │ NULL    │\n",
              "│ population           │ INTEGER                                               │ YES     │ NULL    │ NULL    │ NULL    │\n",
              "│ iso_country_code_a…  │ VARCHAR                                               │ YES     │ NULL    │ NULL    │ NULL    │\n",
              "│ iso_sub_country_code │ VARCHAR                                               │ YES     │ NULL    │ NULL    │ NULL    │\n",
              "│ default_language     │ VARCHAR                                               │ YES     │ NULL    │ NULL    │ NULL    │\n",
              "│ driving_side         │ VARCHAR                                               │ YES     │ NULL    │ NULL    │ NULL    │\n",
              "│ names                │ STRUCT(\"primary\" VARCHAR, common MAP(VARCHAR, VARCH…  │ YES     │ NULL    │ NULL    │ NULL    │\n",
              "│ locality_id          │ VARCHAR                                               │ YES     │ NULL    │ NULL    │ NULL    │\n",
              "├──────────────────────┴───────────────────────────────────────────────────────┴─────────┴─────────┴─────────┴─────────┤\n",
              "│ 20 rows                                                                                                    6 columns │\n",
              "└──────────────────────────────────────────────────────────────────────────────────────────────────────────────────────┘"
            ]
          },
          "metadata": {},
          "execution_count": 10
        }
      ]
    },
    {
      "cell_type": "markdown",
      "source": [
        "## Lets write some spatial query\n",
        "Lets filter only those feature which intersects with our boundary"
      ],
      "metadata": {
        "id": "6kGYwDWPYi0S"
      }
    },
    {
      "cell_type": "code",
      "source": [
        "query = f\"\"\"select a.id,a.admin_level,a.version,a.population,a.default_language,ST_GeomFromWKB(a.geometry) as geom  from adb as a , nepal as b where ST_Intersects(ST_GeomFromWKB(a.geometry), ST_GeomFromWKB(ST_AsWKB(b.geom)))\"\"\""
      ],
      "metadata": {
        "id": "YMCYNfILF2qo"
      },
      "execution_count": null,
      "outputs": []
    },
    {
      "cell_type": "code",
      "source": [
        "con.sql(query)"
      ],
      "metadata": {
        "colab": {
          "base_uri": "https://localhost:8080/",
          "height": 584,
          "referenced_widgets": [
            "20d55b4ee08e48b1b1b31001f3edfa6f",
            "fc547e9077b04310ae7a826e7f14bd0c",
            "077b3eea236349248cba4f8ac1f9009a"
          ]
        },
        "id": "iLqsCcLC6qsp",
        "outputId": "45acd95c-6c5b-4ffd-a5b7-25d6f2a0cec3"
      },
      "execution_count": null,
      "outputs": [
        {
          "output_type": "display_data",
          "data": {
            "text/plain": [
              "FloatProgress(value=0.0, layout=Layout(width='auto'), style=ProgressStyle(bar_color='black'))"
            ],
            "application/vnd.jupyter.widget-view+json": {
              "version_major": 2,
              "version_minor": 0,
              "model_id": "20d55b4ee08e48b1b1b31001f3edfa6f"
            }
          },
          "metadata": {}
        },
        {
          "output_type": "execute_result",
          "data": {
            "text/plain": [
              "┌──────────────────────┬─────────────┬─────────┬────────────┬──────────────────┬───────────────────────────────────────┐\n",
              "│          id          │ admin_level │ version │ population │ default_language │                 geom                  │\n",
              "│       varchar        │    int32    │  int32  │   int32    │     varchar      │               geometry                │\n",
              "├──────────────────────┼─────────────┼─────────┼────────────┼──────────────────┼───────────────────────────────────────┤\n",
              "│ 0854f716bfffffff01…  │           3 │       0 │       NULL │ NULL             │ LINESTRING (81.0483975 28.4092009, …  │\n",
              "│ 08514986bfffffff01…  │           2 │       0 │       NULL │ NULL             │ LINESTRING (83.8557792 27.3518667, …  │\n",
              "│ 0851280b7fffffff01…  │           3 │       0 │       NULL │ NULL             │ LINESTRING (82.4554416 27.1507079, …  │\n",
              "│ 0854706d3fffffff01…  │           3 │       0 │       NULL │ NULL             │ LINESTRING (81.7427347 27.9536411, …  │\n",
              "│ 085378597fffffff01…  │           3 │       0 │       NULL │ NULL             │ LINESTRING (82.2069789 27.8438995, …  │\n",
              "│ 0855ca6cbfffffff01…  │           3 │       0 │       NULL │ NULL             │ LINESTRING (82.0674957 27.923028, 8…  │\n",
              "│ 085484c87fffffff01…  │           3 │       0 │       NULL │ NULL             │ LINESTRING (82.8034295 27.7947772, …  │\n",
              "│ 085486467fffffff01…  │           3 │       0 │       NULL │ NULL             │ LINESTRING (82.8045805 27.8772424, …  │\n",
              "│ 0855195abfffffff01…  │           3 │       0 │       NULL │ NULL             │ LINESTRING (82.6003886 28.0936265, …  │\n",
              "│ 0854900c7fffffff01…  │           3 │       0 │       NULL │ NULL             │ LINESTRING (82.8045805 27.8772424, …  │\n",
              "│          ·           │           · │       · │         ·  │  ·               │                   ·                   │\n",
              "│          ·           │           · │       · │         ·  │  ·               │                   ·                   │\n",
              "│          ·           │           · │       · │         ·  │  ·               │                   ·                   │\n",
              "│ 085ceeecbfffffff01…  │           2 │       0 │       NULL │ NULL             │ LINESTRING (83.1462243 28.7481549, …  │\n",
              "│ 085dcf3cbfffffff01…  │           1 │       0 │       NULL │ NULL             │ LINESTRING (80.5414324 30.4483009, …  │\n",
              "│ 085f284bbfffffff01…  │           3 │       0 │       NULL │ NULL             │ LINESTRING (81.7740965 29.6057053, …  │\n",
              "│ 085f2632ffffffff01…  │           3 │       0 │       NULL │ NULL             │ LINESTRING (82.5589347 29.4115737, …  │\n",
              "│ 085be6813fffffff01…  │           3 │       0 │       NULL │ NULL             │ LINESTRING (85.817349 30.7852643, 8…  │\n",
              "│ 0857cb0cbfffffff01…  │           3 │       0 │       NULL │ NULL             │ LINESTRING (84.477694 28.0583161, 8…  │\n",
              "│ 0857d2573fffffff01…  │           3 │       0 │       NULL │ NULL             │ LINESTRING (84.2685847 28.4557823, …  │\n",
              "│ 085989473fffffff01…  │           3 │       0 │       NULL │ NULL             │ LINESTRING (84.5714907 28.4775769, …  │\n",
              "│ 0856b9b6ffffffff01…  │           3 │       0 │       NULL │ NULL             │ LINESTRING (85.1596107 28.331873, 8…  │\n",
              "│ 0857a8b8ffffffff01…  │           3 │       0 │       NULL │ NULL             │ LINESTRING (85.4419313 28.0822407, …  │\n",
              "├──────────────────────┴─────────────┴─────────┴────────────┴──────────────────┴───────────────────────────────────────┤\n",
              "│ 170 rows (20 shown)                                                                                        6 columns │\n",
              "└──────────────────────────────────────────────────────────────────────────────────────────────────────────────────────┘"
            ]
          },
          "metadata": {},
          "execution_count": 12
        }
      ]
    },
    {
      "cell_type": "markdown",
      "source": [
        "## Export them in GIS formats\n",
        "\n",
        "DuckDB has support for several geospatial data formats with the help of OGR , Find more : https://duckdb.org/docs/extensions/spatial.html"
      ],
      "metadata": {
        "id": "DTHSSjy8YqP7"
      }
    },
    {
      "cell_type": "code",
      "source": [
        "con.execute(f\"COPY ({query.strip()}) to 'ad_nepal.geojson' WITH (FORMAT GDAL, DRIVER 'GeoJSON', LAYER_CREATION_OPTIONS 'WRITE_BBOX=YES');\")"
      ],
      "metadata": {
        "id": "afJecf5-Aj93",
        "colab": {
          "base_uri": "https://localhost:8080/",
          "height": 67,
          "referenced_widgets": [
            "f92ae5efe4ff43da837194b6cea5f678",
            "d5d1ad50dd554f08bf6ec0dab8bdcc9d",
            "1ab6f972219a4d16909785ccf2af1e80"
          ]
        },
        "outputId": "fb222f82-6413-40a1-c47e-2ef61a3ae6d2"
      },
      "execution_count": null,
      "outputs": [
        {
          "output_type": "display_data",
          "data": {
            "text/plain": [
              "FloatProgress(value=0.0, layout=Layout(width='auto'), style=ProgressStyle(bar_color='black'))"
            ],
            "application/vnd.jupyter.widget-view+json": {
              "version_major": 2,
              "version_minor": 0,
              "model_id": "f92ae5efe4ff43da837194b6cea5f678"
            }
          },
          "metadata": {}
        },
        {
          "output_type": "execute_result",
          "data": {
            "text/plain": [
              "<duckdb.duckdb.DuckDBPyConnection at 0x7a0ef86c6630>"
            ]
          },
          "metadata": {},
          "execution_count": 13
        }
      ]
    }
  ]
}